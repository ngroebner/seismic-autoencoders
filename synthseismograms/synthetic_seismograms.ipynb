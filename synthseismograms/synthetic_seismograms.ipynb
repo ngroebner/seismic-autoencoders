{
 "cells": [
  {
   "cell_type": "code",
   "execution_count": 1,
   "metadata": {},
   "outputs": [],
   "source": [
    "%matplotlib inline\n",
    "import matplotlib.pyplot as plt\n",
    "import numpy as np\n",
    "from pyrocko import gf\n",
    "from pyrocko.gf import LocalEngine\n",
    "from pyrocko import moment_tensor as mtm\n",
    "from scipy.signal import spectrogram, istft\n"
   ]
  },
  {
   "cell_type": "markdown",
   "metadata": {},
   "source": [
    "# Synthetic seismograms using power law noise distribution\n",
    "\n",
    "## Intro\n",
    "This notebook shows how to use the Pyrocko-gf Python library to generate synthetic seismograms with a custom source time function consisting of point sources distributed in amplitude according to a power law. \n",
    "\n",
    "Pyrocko-gf is a library (part of the Pyrocko seismic processing library) that allows construction of synthetic seismogram from specified source functions and Green's functions.  The library comes with several defined sources (including point sources and finite sources) and source-time functions. Custom sources and source time functions can be created as classes.  Green's functions can be created from scratch or downloaded with the `fomosto` package, included with Pyrocko. \n",
    "\n",
    "A more comprehensive introduction to the package is at\n",
    "\n",
    "https://pyrocko.org/docs/current/topics/pyrocko-gf.html\n",
    "\n",
    "The process for computing synthetic seismograms consists of the following.\n",
    "\n",
    "1. Load the Green's functions for the medium in which you are calculating the synthetic. Pyrocko expects a particular format that stores multiple precomputed Green's functions on a source-receiver grid. \n",
    "\n",
    "2. Create a 'Source' object.  The source object contains information on, well, the seismic source characteristics. Users can specify\n",
    "    - The source time function\n",
    "    - The source mechanism, in terms of a standard mechanism or an arbitrary moment tensor.  Point sources and finite sources are possible.\n",
    "    - The location, depth, and size/magnitude\n",
    "    \n",
    "3. Create a 'Target' object.  This is essentyially the seismic receiver. For this you specify \n",
    "    - location, depth\n",
    "    - measured component(s)\n",
    "    - time range (indexed to the time of the event) for which you want the synthetic computed\n",
    "\n",
    "Pyrocko-gf can then calculate the syntheic seismogram."
   ]
  },
  {
   "cell_type": "markdown",
   "metadata": {},
   "source": [
    "## Example\n",
    "\n",
    "Start by loading a precomputed Green's function from https://greens-mill.pyrocko.org\n",
    "\n",
    "Numerous precomputed Green's functions exist on that page.  "
   ]
  },
  {
   "cell_type": "code",
   "execution_count": 2,
   "metadata": {},
   "outputs": [],
   "source": [
    "model = 'synthseismograms/crust2_m5_hardtop_16Hz'\n",
    "\n",
    "engine = LocalEngine(store_dirs=[model])"
   ]
  },
  {
   "cell_type": "markdown",
   "metadata": {},
   "source": [
    "Pyrocko-gf comes with several theoretical source-time functions. Examples indclude triangular, decaying sinusoid (\"resonator\"), and trapezoidal (\"boxcar\").\n",
    "\n"
   ]
  },
  {
   "cell_type": "code",
   "execution_count": 3,
   "metadata": {},
   "outputs": [
    {
     "data": {
      "text/plain": [
       "Text(0.5, 1.0, 'Boxcar Source Time Function')"
      ]
     },
     "execution_count": 3,
     "metadata": {},
     "output_type": "execute_result"
    },
    {
     "data": {
      "image/png": "[encoded data removed]",
      "text/plain": [
       "<Figure size 1080x504 with 3 Axes>"
      ]
     },
     "metadata": {
      "needs_background": "light"
     },
     "output_type": "display_data"
    }
   ],
   "source": [
    "duration=5\n",
    "\n",
    "stf_tri = gf.TriangularSTF(duration, peak_ratio=0.5, anchor=0.)\n",
    "stf_res = stf = gf.ResonatorSTF(duration, frequency=.5)\n",
    "stf_boxcar = stf = gf.BoxcarSTF(duration, anchor=0.)\n",
    "\n",
    "plt.figure(figsize=(15,7))\n",
    "\n",
    "(x,y) = stf_tri.discretize_t(0.1,0)\n",
    "plt.subplot(222)\n",
    "_=plt.scatter(x,y)\n",
    "plt.title(\"Triangular Source Time Function\")\n",
    "\n",
    "(x,y) = stf_res.discretize_t(0.1,0)\n",
    "plt.subplot(221)\n",
    "_=plt.scatter(x,y)\n",
    "plt.title(\"Resonator Source Time Function\")\n",
    "\n",
    "(x,y) = stf_boxcar.discretize_t(0.1,0)\n",
    "plt.subplot(223)\n",
    "_=plt.scatter(x,y)\n",
    "plt.title(\"Boxcar Source Time Function\")"
   ]
  },
  {
   "cell_type": "markdown",
   "metadata": {},
   "source": [
    "Next, we will create several sources, including an explosion source, double couple, moment tensor (with same parameters as the double couple), rectangular finite fault, and a ring fault."
   ]
  },
  {
   "cell_type": "code",
   "execution_count": 4,
   "metadata": {},
   "outputs": [],
   "source": [
    "#Parameters\n",
    "\n",
    "# Change this to change the source time function\n",
    "stf = stf_boxcar\n",
    "mag = 2\n",
    "# stick slip fault\n",
    "dip = 90\n",
    "strike = 0\n",
    "rake = 0\n",
    "mt = mtm.MomentTensor(strike=strike, \n",
    "                      dip=dip, \n",
    "                      rake=rake, \n",
    "                      scalar_moment=mtm.magnitude_to_moment(mag))\n",
    "#Earthquake location\n",
    "lat = 0\n",
    "long = 0\n",
    "depth = 2e3\n",
    "\n",
    "# Sources \n",
    "exp_source = gf.ExplosionSource(lat=lat, lon=long, depth=depth, volume_change=5e8)\n",
    "\n",
    "dc_source = gf.DCSource(stf=stf, lat=lat, lon=long, depth=depth, strike=strike, dip=dip, rake=rake)\n",
    "\n",
    "mt_source = gf.MTSource(stf=stf,\n",
    "   lat=lat, lon=long, depth=depth,\n",
    "   mnn=mt.mnn, mee=mt.mee, mdd=mt.mdd,\n",
    "   mne=mt.mne, mnd=mt.mnd, med=mt.med)\n",
    "\n",
    "rect_source = gf.RectangularSource(stf=stf,\n",
    "    lat=lat, lon=long, depth=depth,\n",
    "    dip=dip, strike=strike, rake=rake, #lateral strike-slip\n",
    "    width=1e3, length=2e3, slip=1)\n",
    "\n",
    "ring_source = gf.RingfaultSource(stf=stf,\n",
    "    lat=lat, lon=long, depth=depth,\n",
    "    dip=dip, diameter=1e1, sign=-1)"
   ]
  },
  {
   "cell_type": "markdown",
   "metadata": {},
   "source": [
    "Then, a single target seismometer is created."
   ]
  },
  {
   "cell_type": "code",
   "execution_count": 5,
   "metadata": {},
   "outputs": [],
   "source": [
    "target = gf.Target(\n",
    "       quantity='displacement',\n",
    "       lat=0, lon=1,\n",
    "       store_id=model,\n",
    "       codes=('NET', 'STA', 'LOC', 'E'),\n",
    "       tmin=15, tmax=50)"
   ]
  },
  {
   "cell_type": "markdown",
   "metadata": {},
   "source": [
    "## Results\n",
    "The following show synthetic seismograms and calculated spectrograms for each source."
   ]
  },
  {
   "cell_type": "code",
   "execution_count": 6,
   "metadata": {},
   "outputs": [
    {
     "ename": "StoreError",
     "evalue": "directory \"/Users/nate/Dropbox/SyntheticSignals/synthseismograms/synthseismograms/crust2_m5_hardtop_16Hz\" does not seem to contain a GF store (\"config\" file not found)",
     "output_type": "error",
     "traceback": [
      "\u001b[0;31m---------------------------------------------------------------------------\u001b[0m",
      "\u001b[0;31mStoreError\u001b[0m                                Traceback (most recent call last)",
      "\u001b[0;32m<ipython-input-6-3febeae3e3a3>\u001b[0m in \u001b[0;36m<module>\u001b[0;34m\u001b[0m\n\u001b[0;32m----> 1\u001b[0;31m \u001b[0mresponse\u001b[0m \u001b[0;34m=\u001b[0m \u001b[0mengine\u001b[0m\u001b[0;34m.\u001b[0m\u001b[0mprocess\u001b[0m\u001b[0;34m(\u001b[0m\u001b[0mexp_source\u001b[0m\u001b[0;34m,\u001b[0m \u001b[0;34m[\u001b[0m\u001b[0mtarget\u001b[0m\u001b[0;34m]\u001b[0m\u001b[0;34m)\u001b[0m\u001b[0;34m\u001b[0m\u001b[0;34m\u001b[0m\u001b[0m\n\u001b[0m\u001b[1;32m      2\u001b[0m \u001b[0msynthetic_trace\u001b[0m \u001b[0;34m=\u001b[0m \u001b[0mresponse\u001b[0m\u001b[0;34m.\u001b[0m\u001b[0mpyrocko_traces\u001b[0m\u001b[0;34m(\u001b[0m\u001b[0;34m)\u001b[0m\u001b[0;34m[\u001b[0m\u001b[0;36m0\u001b[0m\u001b[0;34m]\u001b[0m\u001b[0;34m\u001b[0m\u001b[0;34m\u001b[0m\u001b[0m\n\u001b[1;32m      3\u001b[0m \u001b[0msynthetic_trace\u001b[0m\u001b[0;34m.\u001b[0m\u001b[0mplot\u001b[0m\u001b[0;34m(\u001b[0m\u001b[0;34m)\u001b[0m\u001b[0;34m\u001b[0m\u001b[0;34m\u001b[0m\u001b[0m\n\u001b[1;32m      4\u001b[0m \u001b[0;34m\u001b[0m\u001b[0m\n\u001b[1;32m      5\u001b[0m \u001b[0mdf\u001b[0m \u001b[0;34m=\u001b[0m \u001b[0mlen\u001b[0m\u001b[0;34m(\u001b[0m\u001b[0msynthetic_trace\u001b[0m\u001b[0;34m.\u001b[0m\u001b[0mget_xdata\u001b[0m\u001b[0;34m(\u001b[0m\u001b[0;34m)\u001b[0m\u001b[0;34m)\u001b[0m\u001b[0;34m\u001b[0m\u001b[0;34m\u001b[0m\u001b[0m\n",
      "\u001b[0;32m~/anaconda/envs/seismic/lib/python3.6/site-packages/pyrocko/gf/seismosizer.py\u001b[0m in \u001b[0;36mprocess\u001b[0;34m(self, *args, **kwargs)\u001b[0m\n\u001b[1;32m   3407\u001b[0m         \u001b[0mstore_ids\u001b[0m \u001b[0;34m=\u001b[0m \u001b[0mset\u001b[0m\u001b[0;34m(\u001b[0m\u001b[0mtarget\u001b[0m\u001b[0;34m.\u001b[0m\u001b[0mstore_id\u001b[0m \u001b[0;32mfor\u001b[0m \u001b[0mtarget\u001b[0m \u001b[0;32min\u001b[0m \u001b[0mrequest\u001b[0m\u001b[0;34m.\u001b[0m\u001b[0mtargets\u001b[0m\u001b[0;34m)\u001b[0m\u001b[0;34m\u001b[0m\u001b[0;34m\u001b[0m\u001b[0m\n\u001b[1;32m   3408\u001b[0m         \u001b[0;32mfor\u001b[0m \u001b[0mstore_id\u001b[0m \u001b[0;32min\u001b[0m \u001b[0mstore_ids\u001b[0m\u001b[0;34m:\u001b[0m\u001b[0;34m\u001b[0m\u001b[0;34m\u001b[0m\u001b[0m\n\u001b[0;32m-> 3409\u001b[0;31m             \u001b[0mself\u001b[0m\u001b[0;34m.\u001b[0m\u001b[0mget_store\u001b[0m\u001b[0;34m(\u001b[0m\u001b[0mstore_id\u001b[0m\u001b[0;34m)\u001b[0m\u001b[0;34m\u001b[0m\u001b[0;34m\u001b[0m\u001b[0m\n\u001b[0m\u001b[1;32m   3410\u001b[0m \u001b[0;34m\u001b[0m\u001b[0m\n\u001b[1;32m   3411\u001b[0m         source_index = dict((x, i) for (i, x) in\n",
      "\u001b[0;32m~/anaconda/envs/seismic/lib/python3.6/site-packages/pyrocko/gf/seismosizer.py\u001b[0m in \u001b[0;36mget_store\u001b[0;34m(self, store_id)\u001b[0m\n\u001b[1;32m   3141\u001b[0m \u001b[0;34m\u001b[0m\u001b[0m\n\u001b[1;32m   3142\u001b[0m         \u001b[0;32mif\u001b[0m \u001b[0mstore_id\u001b[0m \u001b[0;32mnot\u001b[0m \u001b[0;32min\u001b[0m \u001b[0mself\u001b[0m\u001b[0;34m.\u001b[0m\u001b[0m_open_stores\u001b[0m\u001b[0;34m:\u001b[0m\u001b[0;34m\u001b[0m\u001b[0;34m\u001b[0m\u001b[0m\n\u001b[0;32m-> 3143\u001b[0;31m             \u001b[0mstore_dir\u001b[0m \u001b[0;34m=\u001b[0m \u001b[0mself\u001b[0m\u001b[0;34m.\u001b[0m\u001b[0mget_store_dir\u001b[0m\u001b[0;34m(\u001b[0m\u001b[0mstore_id\u001b[0m\u001b[0;34m)\u001b[0m\u001b[0;34m\u001b[0m\u001b[0;34m\u001b[0m\u001b[0m\n\u001b[0m\u001b[1;32m   3144\u001b[0m             \u001b[0mself\u001b[0m\u001b[0;34m.\u001b[0m\u001b[0m_open_stores\u001b[0m\u001b[0;34m[\u001b[0m\u001b[0mstore_id\u001b[0m\u001b[0;34m]\u001b[0m \u001b[0;34m=\u001b[0m \u001b[0mstore\u001b[0m\u001b[0;34m.\u001b[0m\u001b[0mStore\u001b[0m\u001b[0;34m(\u001b[0m\u001b[0mstore_dir\u001b[0m\u001b[0;34m)\u001b[0m\u001b[0;34m\u001b[0m\u001b[0;34m\u001b[0m\u001b[0m\n\u001b[1;32m   3145\u001b[0m \u001b[0;34m\u001b[0m\u001b[0m\n",
      "\u001b[0;32m~/anaconda/envs/seismic/lib/python3.6/site-packages/pyrocko/gf/seismosizer.py\u001b[0m in \u001b[0;36mget_store_dir\u001b[0;34m(self, store_id)\u001b[0m\n\u001b[1;32m   3096\u001b[0m \u001b[0;34m\u001b[0m\u001b[0m\n\u001b[1;32m   3097\u001b[0m         \u001b[0;32mif\u001b[0m \u001b[0mstore_id\u001b[0m \u001b[0;32mnot\u001b[0m \u001b[0;32min\u001b[0m \u001b[0mself\u001b[0m\u001b[0;34m.\u001b[0m\u001b[0m_id_to_store_dir\u001b[0m\u001b[0;34m:\u001b[0m\u001b[0;34m\u001b[0m\u001b[0;34m\u001b[0m\u001b[0m\n\u001b[0;32m-> 3098\u001b[0;31m             \u001b[0mself\u001b[0m\u001b[0;34m.\u001b[0m\u001b[0m_scan_stores\u001b[0m\u001b[0;34m(\u001b[0m\u001b[0;34m)\u001b[0m\u001b[0;34m\u001b[0m\u001b[0;34m\u001b[0m\u001b[0m\n\u001b[0m\u001b[1;32m   3099\u001b[0m \u001b[0;34m\u001b[0m\u001b[0m\n\u001b[1;32m   3100\u001b[0m         \u001b[0;32mif\u001b[0m \u001b[0mstore_id\u001b[0m \u001b[0;32mnot\u001b[0m \u001b[0;32min\u001b[0m \u001b[0mself\u001b[0m\u001b[0;34m.\u001b[0m\u001b[0m_id_to_store_dir\u001b[0m\u001b[0;34m:\u001b[0m\u001b[0;34m\u001b[0m\u001b[0;34m\u001b[0m\u001b[0m\n",
      "\u001b[0;32m~/anaconda/envs/seismic/lib/python3.6/site-packages/pyrocko/gf/seismosizer.py\u001b[0m in \u001b[0;36m_scan_stores\u001b[0;34m(self)\u001b[0m\n\u001b[1;32m   3080\u001b[0m     \u001b[0;32mdef\u001b[0m \u001b[0m_scan_stores\u001b[0m\u001b[0;34m(\u001b[0m\u001b[0mself\u001b[0m\u001b[0;34m)\u001b[0m\u001b[0;34m:\u001b[0m\u001b[0;34m\u001b[0m\u001b[0;34m\u001b[0m\u001b[0m\n\u001b[1;32m   3081\u001b[0m         \u001b[0;32mfor\u001b[0m \u001b[0mstore_dir\u001b[0m \u001b[0;32min\u001b[0m \u001b[0mself\u001b[0m\u001b[0;34m.\u001b[0m\u001b[0miter_store_dirs\u001b[0m\u001b[0;34m(\u001b[0m\u001b[0;34m)\u001b[0m\u001b[0;34m:\u001b[0m\u001b[0;34m\u001b[0m\u001b[0;34m\u001b[0m\u001b[0m\n\u001b[0;32m-> 3082\u001b[0;31m             \u001b[0mstore_id\u001b[0m \u001b[0;34m=\u001b[0m \u001b[0mself\u001b[0m\u001b[0;34m.\u001b[0m\u001b[0m_get_store_id\u001b[0m\u001b[0;34m(\u001b[0m\u001b[0mstore_dir\u001b[0m\u001b[0;34m)\u001b[0m\u001b[0;34m\u001b[0m\u001b[0;34m\u001b[0m\u001b[0m\n\u001b[0m\u001b[1;32m   3083\u001b[0m             \u001b[0;32mif\u001b[0m \u001b[0mstore_id\u001b[0m \u001b[0;32mnot\u001b[0m \u001b[0;32min\u001b[0m \u001b[0mself\u001b[0m\u001b[0;34m.\u001b[0m\u001b[0m_id_to_store_dir\u001b[0m\u001b[0;34m:\u001b[0m\u001b[0;34m\u001b[0m\u001b[0;34m\u001b[0m\u001b[0m\n\u001b[1;32m   3084\u001b[0m                 \u001b[0mself\u001b[0m\u001b[0;34m.\u001b[0m\u001b[0m_id_to_store_dir\u001b[0m\u001b[0;34m[\u001b[0m\u001b[0mstore_id\u001b[0m\u001b[0;34m]\u001b[0m \u001b[0;34m=\u001b[0m \u001b[0mstore_dir\u001b[0m\u001b[0;34m\u001b[0m\u001b[0;34m\u001b[0m\u001b[0m\n",
      "\u001b[0;32m~/anaconda/envs/seismic/lib/python3.6/site-packages/pyrocko/gf/seismosizer.py\u001b[0m in \u001b[0;36m_get_store_id\u001b[0;34m(self, store_dir)\u001b[0m\n\u001b[1;32m   3051\u001b[0m \u001b[0;34m\u001b[0m\u001b[0m\n\u001b[1;32m   3052\u001b[0m     \u001b[0;32mdef\u001b[0m \u001b[0m_get_store_id\u001b[0m\u001b[0;34m(\u001b[0m\u001b[0mself\u001b[0m\u001b[0;34m,\u001b[0m \u001b[0mstore_dir\u001b[0m\u001b[0;34m)\u001b[0m\u001b[0;34m:\u001b[0m\u001b[0;34m\u001b[0m\u001b[0;34m\u001b[0m\u001b[0m\n\u001b[0;32m-> 3053\u001b[0;31m         \u001b[0mstore_\u001b[0m \u001b[0;34m=\u001b[0m \u001b[0mstore\u001b[0m\u001b[0;34m.\u001b[0m\u001b[0mStore\u001b[0m\u001b[0;34m(\u001b[0m\u001b[0mstore_dir\u001b[0m\u001b[0;34m)\u001b[0m\u001b[0;34m\u001b[0m\u001b[0;34m\u001b[0m\u001b[0m\n\u001b[0m\u001b[1;32m   3054\u001b[0m         \u001b[0mstore_id\u001b[0m \u001b[0;34m=\u001b[0m \u001b[0mstore_\u001b[0m\u001b[0;34m.\u001b[0m\u001b[0mconfig\u001b[0m\u001b[0;34m.\u001b[0m\u001b[0mid\u001b[0m\u001b[0;34m\u001b[0m\u001b[0;34m\u001b[0m\u001b[0m\n\u001b[1;32m   3055\u001b[0m         \u001b[0mstore_\u001b[0m\u001b[0;34m.\u001b[0m\u001b[0mclose\u001b[0m\u001b[0;34m(\u001b[0m\u001b[0;34m)\u001b[0m\u001b[0;34m\u001b[0m\u001b[0;34m\u001b[0m\u001b[0m\n",
      "\u001b[0;32m~/anaconda/envs/seismic/lib/python3.6/site-packages/pyrocko/gf/store.py\u001b[0m in \u001b[0;36m__init__\u001b[0;34m(self, store_dir, mode, use_memmap)\u001b[0m\n\u001b[1;32m   1134\u001b[0m             raise StoreError(\n\u001b[1;32m   1135\u001b[0m                 \u001b[0;34m'directory \"%s\" does not seem to contain a GF store '\u001b[0m\u001b[0;34m\u001b[0m\u001b[0;34m\u001b[0m\u001b[0m\n\u001b[0;32m-> 1136\u001b[0;31m                 '(\"config\" file not found)' % store_dir)\n\u001b[0m\u001b[1;32m   1137\u001b[0m         \u001b[0mself\u001b[0m\u001b[0;34m.\u001b[0m\u001b[0mload_config\u001b[0m\u001b[0;34m(\u001b[0m\u001b[0;34m)\u001b[0m\u001b[0;34m\u001b[0m\u001b[0;34m\u001b[0m\u001b[0m\n\u001b[1;32m   1138\u001b[0m \u001b[0;34m\u001b[0m\u001b[0m\n",
      "\u001b[0;31mStoreError\u001b[0m: directory \"/Users/nate/Dropbox/SyntheticSignals/synthseismograms/synthseismograms/crust2_m5_hardtop_16Hz\" does not seem to contain a GF store (\"config\" file not found)"
     ]
    }
   ],
   "source": [
    "response = engine.process(exp_source, [target])\n",
    "synthetic_trace = response.pyrocko_traces()[0]\n",
    "synthetic_trace.plot()\n",
    "\n",
    "df = len(synthetic_trace.get_xdata())\n",
    "\n",
    "f, t, Sxx = spectrogram(synthetic_trace.get_ydata(),0.02, nperseg=int(df/10), noverlap=int(df/11), scaling='density')\n",
    "\n",
    "plt.pcolormesh(np.log(Sxx))\n",
    "_ = plt.title('Explosion Source, source-time={}'.format(type(stf)))"
   ]
  },
  {
   "cell_type": "code",
   "execution_count": 9,
   "metadata": {},
   "outputs": [
    {
     "ename": "NoSuchStore",
     "evalue": "no GF store with id \"synthseismograms/crust2_m5_hardtop_16Hz\" found. Searched folders:\n  /Users/nate/Dropbox/SyntheticSignals/synthseismograms/crust2_m5_hardtop_16Hz",
     "output_type": "error",
     "traceback": [
      "\u001b[0;31m---------------------------------------------------------------------------\u001b[0m",
      "\u001b[0;31mNoSuchStore\u001b[0m                               Traceback (most recent call last)",
      "\u001b[0;32m<ipython-input-9-c7b1c0861621>\u001b[0m in \u001b[0;36m<module>\u001b[0;34m\u001b[0m\n\u001b[0;32m----> 1\u001b[0;31m \u001b[0mresponse\u001b[0m \u001b[0;34m=\u001b[0m \u001b[0mengine\u001b[0m\u001b[0;34m.\u001b[0m\u001b[0mprocess\u001b[0m\u001b[0;34m(\u001b[0m\u001b[0mrect_source\u001b[0m\u001b[0;34m,\u001b[0m \u001b[0;34m[\u001b[0m\u001b[0mtarget\u001b[0m\u001b[0;34m]\u001b[0m\u001b[0;34m)\u001b[0m\u001b[0;34m\u001b[0m\u001b[0;34m\u001b[0m\u001b[0m\n\u001b[0m\u001b[1;32m      2\u001b[0m \u001b[0msynthetic_trace\u001b[0m \u001b[0;34m=\u001b[0m \u001b[0mresponse\u001b[0m\u001b[0;34m.\u001b[0m\u001b[0mpyrocko_traces\u001b[0m\u001b[0;34m(\u001b[0m\u001b[0;34m)\u001b[0m\u001b[0;34m[\u001b[0m\u001b[0;36m0\u001b[0m\u001b[0;34m]\u001b[0m\u001b[0;34m\u001b[0m\u001b[0;34m\u001b[0m\u001b[0m\n\u001b[1;32m      3\u001b[0m \u001b[0msynthetic_trace\u001b[0m\u001b[0;34m.\u001b[0m\u001b[0mplot\u001b[0m\u001b[0;34m(\u001b[0m\u001b[0;34m)\u001b[0m\u001b[0;34m\u001b[0m\u001b[0;34m\u001b[0m\u001b[0m\n\u001b[1;32m      4\u001b[0m \u001b[0;34m\u001b[0m\u001b[0m\n\u001b[1;32m      5\u001b[0m \u001b[0mdf\u001b[0m \u001b[0;34m=\u001b[0m \u001b[0mlen\u001b[0m\u001b[0;34m(\u001b[0m\u001b[0msynthetic_trace\u001b[0m\u001b[0;34m.\u001b[0m\u001b[0mget_xdata\u001b[0m\u001b[0;34m(\u001b[0m\u001b[0;34m)\u001b[0m\u001b[0;34m)\u001b[0m\u001b[0;34m\u001b[0m\u001b[0;34m\u001b[0m\u001b[0m\n",
      "\u001b[0;32m~/anaconda/envs/seismic/lib/python3.6/site-packages/pyrocko/gf/seismosizer.py\u001b[0m in \u001b[0;36mprocess\u001b[0;34m(self, *args, **kwargs)\u001b[0m\n\u001b[1;32m   3407\u001b[0m         \u001b[0mstore_ids\u001b[0m \u001b[0;34m=\u001b[0m \u001b[0mset\u001b[0m\u001b[0;34m(\u001b[0m\u001b[0mtarget\u001b[0m\u001b[0;34m.\u001b[0m\u001b[0mstore_id\u001b[0m \u001b[0;32mfor\u001b[0m \u001b[0mtarget\u001b[0m \u001b[0;32min\u001b[0m \u001b[0mrequest\u001b[0m\u001b[0;34m.\u001b[0m\u001b[0mtargets\u001b[0m\u001b[0;34m)\u001b[0m\u001b[0;34m\u001b[0m\u001b[0;34m\u001b[0m\u001b[0m\n\u001b[1;32m   3408\u001b[0m         \u001b[0;32mfor\u001b[0m \u001b[0mstore_id\u001b[0m \u001b[0;32min\u001b[0m \u001b[0mstore_ids\u001b[0m\u001b[0;34m:\u001b[0m\u001b[0;34m\u001b[0m\u001b[0;34m\u001b[0m\u001b[0m\n\u001b[0;32m-> 3409\u001b[0;31m             \u001b[0mself\u001b[0m\u001b[0;34m.\u001b[0m\u001b[0mget_store\u001b[0m\u001b[0;34m(\u001b[0m\u001b[0mstore_id\u001b[0m\u001b[0;34m)\u001b[0m\u001b[0;34m\u001b[0m\u001b[0;34m\u001b[0m\u001b[0m\n\u001b[0m\u001b[1;32m   3410\u001b[0m \u001b[0;34m\u001b[0m\u001b[0m\n\u001b[1;32m   3411\u001b[0m         source_index = dict((x, i) for (i, x) in\n",
      "\u001b[0;32m~/anaconda/envs/seismic/lib/python3.6/site-packages/pyrocko/gf/seismosizer.py\u001b[0m in \u001b[0;36mget_store\u001b[0;34m(self, store_id)\u001b[0m\n\u001b[1;32m   3141\u001b[0m \u001b[0;34m\u001b[0m\u001b[0m\n\u001b[1;32m   3142\u001b[0m         \u001b[0;32mif\u001b[0m \u001b[0mstore_id\u001b[0m \u001b[0;32mnot\u001b[0m \u001b[0;32min\u001b[0m \u001b[0mself\u001b[0m\u001b[0;34m.\u001b[0m\u001b[0m_open_stores\u001b[0m\u001b[0;34m:\u001b[0m\u001b[0;34m\u001b[0m\u001b[0;34m\u001b[0m\u001b[0m\n\u001b[0;32m-> 3143\u001b[0;31m             \u001b[0mstore_dir\u001b[0m \u001b[0;34m=\u001b[0m \u001b[0mself\u001b[0m\u001b[0;34m.\u001b[0m\u001b[0mget_store_dir\u001b[0m\u001b[0;34m(\u001b[0m\u001b[0mstore_id\u001b[0m\u001b[0;34m)\u001b[0m\u001b[0;34m\u001b[0m\u001b[0;34m\u001b[0m\u001b[0m\n\u001b[0m\u001b[1;32m   3144\u001b[0m             \u001b[0mself\u001b[0m\u001b[0;34m.\u001b[0m\u001b[0m_open_stores\u001b[0m\u001b[0;34m[\u001b[0m\u001b[0mstore_id\u001b[0m\u001b[0;34m]\u001b[0m \u001b[0;34m=\u001b[0m \u001b[0mstore\u001b[0m\u001b[0;34m.\u001b[0m\u001b[0mStore\u001b[0m\u001b[0;34m(\u001b[0m\u001b[0mstore_dir\u001b[0m\u001b[0;34m)\u001b[0m\u001b[0;34m\u001b[0m\u001b[0;34m\u001b[0m\u001b[0m\n\u001b[1;32m   3145\u001b[0m \u001b[0;34m\u001b[0m\u001b[0m\n",
      "\u001b[0;32m~/anaconda/envs/seismic/lib/python3.6/site-packages/pyrocko/gf/seismosizer.py\u001b[0m in \u001b[0;36mget_store_dir\u001b[0;34m(self, store_id)\u001b[0m\n\u001b[1;32m   3099\u001b[0m \u001b[0;34m\u001b[0m\u001b[0m\n\u001b[1;32m   3100\u001b[0m         \u001b[0;32mif\u001b[0m \u001b[0mstore_id\u001b[0m \u001b[0;32mnot\u001b[0m \u001b[0;32min\u001b[0m \u001b[0mself\u001b[0m\u001b[0;34m.\u001b[0m\u001b[0m_id_to_store_dir\u001b[0m\u001b[0;34m:\u001b[0m\u001b[0;34m\u001b[0m\u001b[0;34m\u001b[0m\u001b[0m\n\u001b[0;32m-> 3101\u001b[0;31m             \u001b[0;32mraise\u001b[0m \u001b[0mNoSuchStore\u001b[0m\u001b[0;34m(\u001b[0m\u001b[0mstore_id\u001b[0m\u001b[0;34m,\u001b[0m \u001b[0mself\u001b[0m\u001b[0;34m.\u001b[0m\u001b[0miter_store_dirs\u001b[0m\u001b[0;34m(\u001b[0m\u001b[0;34m)\u001b[0m\u001b[0;34m)\u001b[0m\u001b[0;34m\u001b[0m\u001b[0;34m\u001b[0m\u001b[0m\n\u001b[0m\u001b[1;32m   3102\u001b[0m \u001b[0;34m\u001b[0m\u001b[0m\n\u001b[1;32m   3103\u001b[0m         \u001b[0;32mreturn\u001b[0m \u001b[0mself\u001b[0m\u001b[0;34m.\u001b[0m\u001b[0m_id_to_store_dir\u001b[0m\u001b[0;34m[\u001b[0m\u001b[0mstore_id\u001b[0m\u001b[0;34m]\u001b[0m\u001b[0;34m\u001b[0m\u001b[0;34m\u001b[0m\u001b[0m\n",
      "\u001b[0;31mNoSuchStore\u001b[0m: no GF store with id \"synthseismograms/crust2_m5_hardtop_16Hz\" found. Searched folders:\n  /Users/nate/Dropbox/SyntheticSignals/synthseismograms/crust2_m5_hardtop_16Hz"
     ]
    }
   ],
   "source": [
    "response = engine.process(rect_source, [target])\n",
    "synthetic_trace = response.pyrocko_traces()[0]\n",
    "synthetic_trace.plot()\n",
    "\n",
    "df = len(synthetic_trace.get_xdata())\n",
    "\n",
    "f, t, Sxx = spectrogram(synthetic_trace.get_ydata(),0.02, nperseg=int(df/10), noverlap=int(df/11), scaling='density')\n",
    "\n",
    "plt.pcolormesh(np.log(Sxx))\n",
    "_ = plt.title('Rectangle Source, source-time={}'.format(type(stf)))"
   ]
  },
  {
   "cell_type": "code",
   "execution_count": null,
   "metadata": {},
   "outputs": [],
   "source": [
    "response = engine.process(mt_source, [target])\n",
    "synthetic_trace = response.pyrocko_traces()[0]\n",
    "synthetic_trace.plot()\n",
    "\n",
    "df = len(synthetic_trace.get_xdata())\n",
    "\n",
    "f, t, Sxx = spectrogram(synthetic_trace.get_ydata(),0.2, nperseg=int(df/10), noverlap=int(df/11), scaling='density')\n",
    "\n",
    "plt.pcolormesh(np.log(Sxx))\n",
    "_ = plt.title('Moment Tensor Source, source-time={}'.format(type(stf)))"
   ]
  },
  {
   "cell_type": "code",
   "execution_count": null,
   "metadata": {},
   "outputs": [],
   "source": [
    "response = engine.process(dc_source, [target])\n",
    "synthetic_trace = response.pyrocko_traces()[0]\n",
    "synthetic_trace.plot()\n",
    "\n",
    "df = len(synthetic_trace.get_xdata())\n",
    "\n",
    "f, t, Sxx = spectrogram(synthetic_trace.get_ydata(),0.02, nperseg=int(df/10), noverlap=int(df/11), scaling='density')\n",
    "\n",
    "plt.pcolormesh(np.log(Sxx))\n",
    "_ = plt.title('Double Couple Source, source-time={}'.format(type(stf)))"
   ]
  },
  {
   "cell_type": "code",
   "execution_count": null,
   "metadata": {},
   "outputs": [],
   "source": [
    "response = engine.process(ring_source, [target])\n",
    "synthetic_trace = response.pyrocko_traces()[0]\n",
    "synthetic_trace.plot()\n",
    "\n",
    "df = len(synthetic_trace.get_xdata())\n",
    "\n",
    "f, t, Sxx = spectrogram(synthetic_trace.get_ydata(),0.02, nperseg=int(df/10), noverlap=int(df/11), scaling='density')\n",
    "\n",
    "plt.pcolormesh(np.log(Sxx))\n",
    "_ = plt.title('Ring Fault Source, source-time={}'.format(type(stf)))"
   ]
  },
  {
   "cell_type": "markdown",
   "metadata": {},
   "source": [
    "# Create a new source time function class.\n",
    "Below we create a new source time function using random asperities, the amplitudes of which follow a power law distribution. \n",
    "\n",
    "Pyrocko source-time functions subclass the `STF` class.  See the following for another example:\n",
    "\n",
    "https://pyrocko.org/docs/current/library/examples/gf_forward.html#creating-a-custom-source-time-function-stf"
   ]
  },
  {
   "cell_type": "code",
   "execution_count": null,
   "metadata": {},
   "outputs": [],
   "source": [
    "from pyrocko.gf import STF\n",
    "from pyrocko.guts import Float, Int\n",
    "\n",
    "class PowerLawSTF(STF):\n",
    "    '''Poisson distributed random impulses based on a power law.'''\n",
    "        \n",
    "\n",
    "    duration = Float.T(\n",
    "        default=0.0,\n",
    "        help='baseline of the ramp')\n",
    "\n",
    "    anchor = Float.T(\n",
    "        default=0.0,\n",
    "        help='anchor point with respect to source-time: ('\n",
    "             '-1.0: left -> source duration [0, T] ~ hypocenter time, '\n",
    "             ' 0.0: center -> source duration [-T/2, T/2] ~ centroid time, '\n",
    "             '+1.0: right -> source duration [-T, 0] ~ rupture end time)')\n",
    "    \n",
    "    mag = Float.T(\n",
    "        default=5.0,\n",
    "        help='magnitude')\n",
    "    \n",
    "    b = Float.T(\n",
    "        default=1.2,\n",
    "        help='b parameter for power law')\n",
    "    \n",
    "    poisson_envelope = Int.T(\n",
    "        default = 0,\n",
    "        help='Whether to apply a Poisson distribution envelope to the magnitudes of the asperities.')\n",
    "    \n",
    "    mu = Float.T(\n",
    "        default = 10,\n",
    "        help = 'Mu parameter for Poisson envelope')\n",
    "    \n",
    "    loc = Float.T(\n",
    "        optional = True,\n",
    "        help = \"'loc' parameter for Poisson distribution function\")\n",
    "    \n",
    "\n",
    "    def discretize_t(self, deltat, tref):\n",
    "        \n",
    "        # Power law - based on Gutenberg-Richter\n",
    "        M = np.linspace(0,self.mag,1000)\n",
    "        pdf = self.b*np.log(10)*10**(-self.b*M)\n",
    "        self.cdf = 1-10**(-self.b*M)\n",
    "\n",
    "        # method returns discrete times and the respective amplitudes\n",
    "        tmin_stf = tref - self.duration * (self.anchor + 1.) * 0.5\n",
    "        tmax_stf = tref + self.duration * (1. - self.anchor) * 0.5\n",
    "        tmin = round(tmin_stf / deltat) * deltat\n",
    "        tmax = round(tmax_stf / deltat) * deltat\n",
    "        nt = int(round((tmax - tmin) / deltat)) + 1\n",
    "        times = np.linspace(tmin, tmax, nt)\n",
    "        if nt > 1:\n",
    "            self._amplitudes = np.random.uniform(min(self.cdf),max(self.cdf),nt)  \n",
    "            if self.poisson_envelope:\n",
    "                x = np.linspace(0,nt-1,nt)\n",
    "                self.envelope = stats.poisson.pmf(x, mu=self.mu, loc=self.loc)\n",
    "                self.amplitudes = self.mag*(self._amplitudes * self.envelope)\n",
    "            else:\n",
    "                self.amplitudes = self._amplitudes\n",
    "        else:\n",
    "            self.amplitudes = np.ones(1)\n",
    "\n",
    "        return times, self.amplitudes\n",
    "\n",
    "    def base_key(self):\n",
    "        # method returns STF name and the values\n",
    "        return (self.__class__.__name__, self.duration, self.anchor)"
   ]
  },
  {
   "cell_type": "markdown",
   "metadata": {},
   "source": [
    "### Create a source time function with the above class.\n",
    "\n",
    "An example of plot of the generated function is below."
   ]
  },
  {
   "cell_type": "code",
   "execution_count": null,
   "metadata": {},
   "outputs": [],
   "source": [
    "stf_gr = PowerLawSTF(duration=10,anchor=0,mag=10,b=1.2)"
   ]
  },
  {
   "cell_type": "code",
   "execution_count": null,
   "metadata": {},
   "outputs": [],
   "source": [
    "(x,y) = stf_gr.discretize_t(0.1,0)\n",
    "_=plt.scatter(x,y)\n",
    "plt.title(\"Power law source time function\")"
   ]
  },
  {
   "cell_type": "markdown",
   "metadata": {},
   "source": [
    "### Here is an example synthetic seismogram and spectrogram using a double couple source and power law source time function"
   ]
  },
  {
   "cell_type": "code",
   "execution_count": null,
   "metadata": {},
   "outputs": [],
   "source": [
    "response = engine.process(dc_source, [target])\n",
    "synthetic_trace = response.pyrocko_traces()[0]\n",
    "synthetic_trace.plot()\n",
    "\n",
    "df = len(synthetic_trace.get_xdata())\n",
    "\n",
    "f, t, Sxx = spectrogram(synthetic_trace.get_ydata(),0.02, nperseg=int(df/10), noverlap=int(df/11), scaling='density')\n",
    "\n",
    "plt.pcolormesh(np.log(Sxx))\n",
    "_ = plt.title('Double Couple Source')"
   ]
  },
  {
   "cell_type": "markdown",
   "metadata": {},
   "source": [
    "## Create multiple quakes with power law random source mechanics"
   ]
  },
  {
   "cell_type": "code",
   "execution_count": null,
   "metadata": {},
   "outputs": [],
   "source": [
    "n_quakes = 10\n",
    "mag = 3\n",
    "duration=10\n",
    "mu = duration * 100\n",
    "loc = -(mu - duration)\n",
    "\n",
    "stf_gr = PowerLawSTF(duration=duration,anchor=0,mag=10,b=1.2, poisson_envelope=1, mu=mu, loc = loc)\n",
    "\n",
    "stfs = [PowerLawSTF(duration=duration,anchor=0,mag=mag,b=1.2) for x in range(n_quakes)]"
   ]
  },
  {
   "cell_type": "code",
   "execution_count": null,
   "metadata": {},
   "outputs": [],
   "source": [
    "'''target = gf.Target(\n",
    "       quantity='displacement',\n",
    "       lat=0, lon=2,\n",
    "       store_id=model,\n",
    "       codes=('NET', 'STA', 'LOC', 'E'),\n",
    "       tmin=10, tmax=100)\n",
    "\n",
    "# Normal fault\n",
    "dip = 90\n",
    "strike = 0\n",
    "rake = -90\n",
    "\n",
    "lat = 0\n",
    "long = 0\n",
    "depth = 2e3'''\n",
    "\n",
    "rect_sources = [gf.RectangularSource(stf=source_time_function,\n",
    "                                     magnitude=mag,\n",
    "                         lat=lat, lon=long, depth=depth,\n",
    "                         dip=dip, strike=strike, rake=rake, \n",
    "                         width=1e3, length=2e3, slip=1)\n",
    "           for source_time_function in stfs]\n",
    "\n",
    "dc_sources = [gf.DCSource(stf=source_time_function, magnitude=mag,\n",
    "                          lat=lat, lon=long, depth=depth, strike=strike, dip=dip, rake=rake)\n",
    "              for source_time_function in stfs]      \n",
    "\n",
    "ring_sources = [gf.RingfaultSource(stf=source_time_function, magnitude=mag,\n",
    "                         #stf_mode='pre',\n",
    "                         lat=lat, lon=long, depth=depth,\n",
    "                         dip=dip, diameter=2e3, sign=-1)\n",
    "           for source_time_function in stfs]\n"
   ]
  },
  {
   "cell_type": "code",
   "execution_count": null,
   "metadata": {},
   "outputs": [],
   "source": [
    "sources = dc_sources\n",
    "\n",
    "'''(x,y) = stfs[2].discretize_t(deltat=.1,tref=0)\n",
    "plt.scatter(x,y)'''\n",
    "\n",
    "quakes = [engine.process(source, [target]).pyrocko_traces()[0] for source in sources]"
   ]
  },
  {
   "cell_type": "markdown",
   "metadata": {},
   "source": [
    "## Example seismogram with power law source time function"
   ]
  },
  {
   "cell_type": "code",
   "execution_count": null,
   "metadata": {},
   "outputs": [],
   "source": [
    "i = 2\n",
    "\n",
    "quakes[i].plot()\n",
    "\n",
    "df = len(quakes[i].get_xdata())\n",
    "\n",
    "f, t, Sxx = spectrogram(quakes[i].get_ydata(),0.02, nperseg=int(df/10), noverlap=int(df/11), scaling='density')\n",
    "\n",
    "plt.pcolormesh(np.log(Sxx))\n",
    "_ = plt.title('GR Law Source')"
   ]
  },
  {
   "cell_type": "markdown",
   "metadata": {},
   "source": [
    "### Difference between two of the seismograms"
   ]
  },
  {
   "cell_type": "code",
   "execution_count": null,
   "metadata": {},
   "outputs": [],
   "source": [
    "plt.plot(quakes[0].ydata-quakes[1].ydata)\n",
    "\n"
   ]
  }
 ],
 "metadata": {
  "kernelspec": {
   "display_name": "Python 3",
   "language": "python",
   "name": "python3"
  },
  "language_info": {
   "codemirror_mode": {
    "name": "ipython",
    "version": 3
   },
   "file_extension": ".py",
   "mimetype": "text/x-python",
   "name": "python",
   "nbconvert_exporter": "python",
   "pygments_lexer": "ipython3",
   "version": "3.6.7"
  }
 },
 "nbformat": 4,
 "nbformat_minor": 4
}
