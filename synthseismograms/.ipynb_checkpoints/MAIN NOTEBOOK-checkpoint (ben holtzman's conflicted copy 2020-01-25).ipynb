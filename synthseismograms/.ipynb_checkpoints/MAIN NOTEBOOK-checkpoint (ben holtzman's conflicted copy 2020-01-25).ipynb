{
 "cells": [
  {
   "cell_type": "markdown",
   "metadata": {},
   "source": [
    "# This is the main notebook for this project"
   ]
  },
  {
   "cell_type": "markdown",
   "metadata": {},
   "source": [
    "The goal is to evaluate autoencoder-based clustering methods for unsupervised classification of synthetic seismograms. By examining several autoencoder structures and clustering algorithms, we hope to understand if these autoencoder-based methods are sensitive to the features of the seismogram source mechanics. \n",
    "\n",
    "A variety of deep-learning algorithms have been developed for clustering images. In this initial experiment, we take inspiration (and methods) from this approach in applying these techniques (and devleoping new ones) based on the 2 dimensional nature of the spectrogram.  Convolutional neural networks have been particularly successful in image classification and clustering due to their intrinsic properties of scale and translational invariance.\n",
    "\n",
    "A key difference bewteen a spectrogram and general images is that the spectgrogram is temporally ordered.  To capture some physics behind the seismogram, we investigate whether  causal convolutional network (also called temporal convoutional network) is superior to a standard, acausal (time-symmetric) network.\n",
    "\n",
    "We investigate three main areas:\n",
    "\n",
    " - **Experiment 1.** Ability for autoencoder clustering (AEC) to determine the *source mechanism* from a spectrogram. \n",
    "      - Double couple, compensated linear vector dipole, and isotropic impulse sources will be used to generate synthetic seismograms with random nodal plane orientations\n",
    "      - \n",
    "    \n",
    "    \n",
    " - **Experiment 2.** Ability for AEC to determine the *source time function* class \n",
    "      - Lognormal, boxcar, and triangular source time functions will be used to generate seismograms with a single source mechanism type (double couple - DC), random nodal plane orientation, and varying durations (1 - 10 seconds).\n",
    "    \n",
    "    \n",
    " - **Experiment 3.** Ability for AEC to determine *noise statistics* of the source time function \n",
    "     - A lognormal source time function with gaussian and gutenberg-richter noise will be used with a single source mechanism (DC) and random nodal planes\n",
    "     \n",
    "     \n",
    " - **Experiment 4.** Put it all together and see what they are most sensitive to \n",
    "      - Look at the silhouette scores for different numbers of clusters"
   ]
  },
  {
   "cell_type": "markdown",
   "metadata": {},
   "source": [
    "## Synthetic seismogram creation"
   ]
  },
  {
   "cell_type": "code",
   "execution_count": null,
   "metadata": {},
   "outputs": [],
   "source": []
  },
  {
   "cell_type": "markdown",
   "metadata": {},
   "source": [
    "The first order of business is to construct the set of synthetic seismograms.\n",
    "\n",
    "**Experiment 1** synthetic seismograms and spectrograms are constructed in the file ```this file.py```"
   ]
  }
 ],
 "metadata": {
  "kernelspec": {
   "display_name": "Python 3",
   "language": "python",
   "name": "python3"
  },
  "language_info": {
   "codemirror_mode": {
    "name": "ipython",
    "version": 3
   },
   "file_extension": ".py",
   "mimetype": "text/x-python",
   "name": "python",
   "nbconvert_exporter": "python",
   "pygments_lexer": "ipython3",
   "version": "3.7.3"
  }
 },
 "nbformat": 4,
 "nbformat_minor": 2
}
