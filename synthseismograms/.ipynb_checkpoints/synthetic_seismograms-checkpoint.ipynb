{
 "cells": [
  {
   "cell_type": "code",
   "execution_count": 1,
   "metadata": {},
   "outputs": [
    {
     "ename": "ModuleNotFoundError",
     "evalue": "No module named 'pyrocko'",
     "output_type": "error",
     "traceback": [
      "\u001b[1;31m---------------------------------------------------------------------------\u001b[0m",
      "\u001b[1;31mModuleNotFoundError\u001b[0m                       Traceback (most recent call last)",
      "\u001b[1;32m<ipython-input-1-6efb6b1ca6c8>\u001b[0m in \u001b[0;36m<module>\u001b[1;34m\u001b[0m\n\u001b[0;32m      2\u001b[0m \u001b[1;32mimport\u001b[0m \u001b[0mmatplotlib\u001b[0m\u001b[1;33m.\u001b[0m\u001b[0mpyplot\u001b[0m \u001b[1;32mas\u001b[0m \u001b[0mplt\u001b[0m\u001b[1;33m\u001b[0m\u001b[1;33m\u001b[0m\u001b[0m\n\u001b[0;32m      3\u001b[0m \u001b[1;32mimport\u001b[0m \u001b[0mnumpy\u001b[0m \u001b[1;32mas\u001b[0m \u001b[0mnp\u001b[0m\u001b[1;33m\u001b[0m\u001b[1;33m\u001b[0m\u001b[0m\n\u001b[1;32m----> 4\u001b[1;33m \u001b[1;32mfrom\u001b[0m \u001b[0mpyrocko\u001b[0m \u001b[1;32mimport\u001b[0m \u001b[0mgf\u001b[0m\u001b[1;33m\u001b[0m\u001b[1;33m\u001b[0m\u001b[0m\n\u001b[0m\u001b[0;32m      5\u001b[0m \u001b[1;32mfrom\u001b[0m \u001b[0mpyrocko\u001b[0m\u001b[1;33m.\u001b[0m\u001b[0mgf\u001b[0m \u001b[1;32mimport\u001b[0m \u001b[0mLocalEngine\u001b[0m\u001b[1;33m\u001b[0m\u001b[1;33m\u001b[0m\u001b[0m\n\u001b[0;32m      6\u001b[0m \u001b[1;32mfrom\u001b[0m \u001b[0mpyrocko\u001b[0m \u001b[1;32mimport\u001b[0m \u001b[0mmoment_tensor\u001b[0m \u001b[1;32mas\u001b[0m \u001b[0mmtm\u001b[0m\u001b[1;33m\u001b[0m\u001b[1;33m\u001b[0m\u001b[0m\n",
      "\u001b[1;31mModuleNotFoundError\u001b[0m: No module named 'pyrocko'"
     ]
    }
   ],
   "source": [
    "%matplotlib inline\n",
    "import matplotlib.pyplot as plt\n",
    "import numpy as np\n",
    "from pyrocko import gf\n",
    "from pyrocko.gf import LocalEngine\n",
    "from pyrocko import moment_tensor as mtm\n",
    "from scipy.signal import spectrogram, istft\n"
   ]
  },
  {
   "cell_type": "markdown",
   "metadata": {},
   "source": [
    "# Synthetic seismograms using Gutenberg-Richter statistics\n",
    "\n",
    "## Intro\n",
    "This notebook shows how to use the Pyrocko-gf Python library to generate synthetic seismograms with a custom source time function consisting of point sources distributed in amplitude according to Gutenberg-Richter statistics. \n",
    "\n",
    "Pyrocko-gf is a library (part of the Pyrocko seismic processing library) that allows construction of synthetic seismogram from specified source functions and Green's functions.  The library comes with several defined sources (including point sources and finite sources) and source-time functions. Custom sources and source time functions can be created as classes.  Green's functions can be created from scratch or downloaded with the `fomosto` package, included with Pyrocko. \n",
    "\n",
    "A more comprehensive introduction to the package is at\n",
    "\n",
    "https://pyrocko.org/docs/current/topics/pyrocko-gf.html"
   ]
  },
  {
   "cell_type": "markdown",
   "metadata": {},
   "source": [
    "Start by using a precomputed Green's function from https://greens-mill.pyrocko.org"
   ]
  },
  {
   "cell_type": "code",
   "execution_count": null,
   "metadata": {},
   "outputs": [],
   "source": [
    "model = 'crust2_m5_hardtop_16Hz'\n",
    "\n",
    "engine = LocalEngine(store_dirs=[model])"
   ]
  },
  {
   "cell_type": "markdown",
   "metadata": {},
   "source": [
    "Several source-time functions are created including triangular, decaying sinusoid (\"resonator\"), and trapezoidal (\"boxcar\")."
   ]
  },
  {
   "cell_type": "code",
   "execution_count": null,
   "metadata": {},
   "outputs": [],
   "source": [
    "duration=5\n",
    "\n",
    "stf_tri = gf.TriangularSTF(duration, peak_ratio=0.5, anchor=0.)\n",
    "stf_res = stf = gf.ResonatorSTF(duration, frequency=.5)\n",
    "stf_boxcar = stf = gf.BoxcarSTF(duration, anchor=0.)\n",
    "\n",
    "plt.figure(figsize=(15,7))\n",
    "\n",
    "(x,y) = stf_tri.discretize_t(0.1,0)\n",
    "plt.subplot(222)\n",
    "_=plt.scatter(x,y)\n",
    "plt.title(\"Triangular Source Time Function\")\n",
    "\n",
    "(x,y) = stf_res.discretize_t(0.1,0)\n",
    "plt.subplot(221)\n",
    "_=plt.scatter(x,y)\n",
    "plt.title(\"Resonator Source Time Function\")\n",
    "\n",
    "(x,y) = stf_boxcar.discretize_t(0.1,0)\n",
    "plt.subplot(223)\n",
    "_=plt.scatter(x,y)\n",
    "plt.title(\"Boxcar Source Time Function\")"
   ]
  },
  {
   "cell_type": "markdown",
   "metadata": {},
   "source": [
    "Next, we will create several sources, including an explosion source, double couple, moment tensor (with same parameters as the double couple), rectangular finite fault, and a ring fault."
   ]
  },
  {
   "cell_type": "code",
   "execution_count": null,
   "metadata": {},
   "outputs": [],
   "source": [
    "#Parameters\n",
    "\n",
    "# Change this to change the source time function\n",
    "stf = stf_boxcar\n",
    "mag = 2\n",
    "# stick slip fault\n",
    "dip = 90\n",
    "strike = 0\n",
    "rake = 0\n",
    "mt = mtm.MomentTensor(strike=strike, \n",
    "                      dip=dip, \n",
    "                      rake=rake, \n",
    "                      scalar_moment=mtm.magnitude_to_moment(mag))\n",
    "#Earthquake location\n",
    "lat = 0\n",
    "long = 0\n",
    "depth = 2e3\n",
    "\n",
    "# Sources \n",
    "exp_source = gf.ExplosionSource(lat=lat, lon=long, depth=depth, volume_change=5e8)\n",
    "\n",
    "dc_source = gf.DCSource(stf=stf, lat=lat, lon=long, depth=depth, strike=strike, dip=dip, rake=rake)\n",
    "\n",
    "mt_source = gf.MTSource(stf=stf,\n",
    "   lat=lat, lon=long, depth=depth,\n",
    "   mnn=mt.mnn, mee=mt.mee, mdd=mt.mdd,\n",
    "   mne=mt.mne, mnd=mt.mnd, med=mt.med)\n",
    "\n",
    "rect_source = gf.RectangularSource(stf=stf,\n",
    "    lat=lat, lon=long, depth=depth,\n",
    "    dip=dip, strike=strike, rake=rake, #lateral strike-slip\n",
    "    width=1e3, length=2e3, slip=1)\n",
    "\n",
    "ring_source = gf.RingfaultSource(stf=stf,\n",
    "    lat=lat, lon=long, depth=depth,\n",
    "    dip=dip, diameter=1e1, sign=-1)"
   ]
  },
  {
   "cell_type": "markdown",
   "metadata": {},
   "source": [
    "Then, a single target seismometer is created."
   ]
  },
  {
   "cell_type": "code",
   "execution_count": null,
   "metadata": {},
   "outputs": [],
   "source": [
    "target = gf.Target(\n",
    "       quantity='displacement',\n",
    "       lat=0, lon=1,\n",
    "       store_id=model,\n",
    "       codes=('NET', 'STA', 'LOC', 'E'),\n",
    "       tmin=15, tmax=50)"
   ]
  },
  {
   "cell_type": "markdown",
   "metadata": {},
   "source": [
    "## Results\n",
    "The following show synthetic seismograms and calculated spectrograms for each source."
   ]
  },
  {
   "cell_type": "code",
   "execution_count": null,
   "metadata": {},
   "outputs": [],
   "source": [
    "response = engine.process(exp_source, [target])\n",
    "synthetic_trace = response.pyrocko_traces()[0]\n",
    "synthetic_trace.plot()\n",
    "\n",
    "df = len(synthetic_trace.get_xdata())\n",
    "\n",
    "f, t, Sxx = spectrogram(synthetic_trace.get_ydata(),0.02, nperseg=int(df/10), noverlap=int(df/11), scaling='density')\n",
    "\n",
    "plt.pcolormesh(np.log(Sxx))\n",
    "_ = plt.title('Explosion Source, source-time={}'.format(type(stf)))"
   ]
  },
  {
   "cell_type": "code",
   "execution_count": null,
   "metadata": {},
   "outputs": [],
   "source": [
    "response = engine.process(rect_source, [target])\n",
    "synthetic_trace = response.pyrocko_traces()[0]\n",
    "synthetic_trace.plot()\n",
    "\n",
    "df = len(synthetic_trace.get_xdata())\n",
    "\n",
    "f, t, Sxx = spectrogram(synthetic_trace.get_ydata(),0.02, nperseg=int(df/10), noverlap=int(df/11), scaling='density')\n",
    "\n",
    "plt.pcolormesh(np.log(Sxx))\n",
    "_ = plt.title('Rectangle Source, source-time={}'.format(type(stf)))"
   ]
  },
  {
   "cell_type": "code",
   "execution_count": null,
   "metadata": {},
   "outputs": [],
   "source": [
    "response = engine.process(mt_source, [target])\n",
    "synthetic_trace = response.pyrocko_traces()[0]\n",
    "synthetic_trace.plot()\n",
    "\n",
    "df = len(synthetic_trace.get_xdata())\n",
    "\n",
    "f, t, Sxx = spectrogram(synthetic_trace.get_ydata(),0.2, nperseg=int(df/10), noverlap=int(df/11), scaling='density')\n",
    "\n",
    "plt.pcolormesh(np.log(Sxx))\n",
    "_ = plt.title('Moment Tensor Source, source-time={}'.format(type(stf)))"
   ]
  },
  {
   "cell_type": "code",
   "execution_count": null,
   "metadata": {},
   "outputs": [],
   "source": [
    "response = engine.process(dc_source, [target])\n",
    "synthetic_trace = response.pyrocko_traces()[0]\n",
    "synthetic_trace.plot()\n",
    "\n",
    "df = len(synthetic_trace.get_xdata())\n",
    "\n",
    "f, t, Sxx = spectrogram(synthetic_trace.get_ydata(),0.02, nperseg=int(df/10), noverlap=int(df/11), scaling='density')\n",
    "\n",
    "plt.pcolormesh(np.log(Sxx))\n",
    "_ = plt.title('Double Couple Source, source-time={}'.format(type(stf)))"
   ]
  },
  {
   "cell_type": "code",
   "execution_count": null,
   "metadata": {},
   "outputs": [],
   "source": [
    "response = engine.process(ring_source, [target])\n",
    "synthetic_trace = response.pyrocko_traces()[0]\n",
    "synthetic_trace.plot()\n",
    "\n",
    "df = len(synthetic_trace.get_xdata())\n",
    "\n",
    "f, t, Sxx = spectrogram(synthetic_trace.get_ydata(),0.02, nperseg=int(df/10), noverlap=int(df/11), scaling='density')\n",
    "\n",
    "plt.pcolormesh(np.log(Sxx))\n",
    "_ = plt.title('Ring Fault Source, source-time={}'.format(type(stf)))"
   ]
  },
  {
   "cell_type": "markdown",
   "metadata": {},
   "source": [
    "# Create a new source time function class.\n",
    "Below we create a new source time function using random asperities, distributed in amplitude by Gutenberg-Richter statistics. The GR law statistics are from the SynteticSignals Jupyter notebook. \n",
    "\n",
    "Pyrocko source-time functions subclass the `STF` class.  See the following for another example:\n",
    "\n",
    "https://pyrocko.org/docs/current/library/examples/gf_forward.html#creating-a-custom-source-time-function-stf"
   ]
  },
  {
   "cell_type": "code",
   "execution_count": null,
   "metadata": {},
   "outputs": [],
   "source": [
    "from pyrocko.gf import STF\n",
    "from pyrocko.guts import Float, Int\n",
    "\n",
    "class GRLawSTF(STF):\n",
    "    '''Poisson distributed random impulses based on the Gutenberg-Richter law.'''\n",
    "        \n",
    "\n",
    "    duration = Float.T(\n",
    "        default=0.0,\n",
    "        help='baseline of the ramp')\n",
    "\n",
    "    anchor = Float.T(\n",
    "        default=0.0,\n",
    "        help='anchor point with respect to source-time: ('\n",
    "             '-1.0: left -> source duration [0, T] ~ hypocenter time, '\n",
    "             ' 0.0: center -> source duration [-T/2, T/2] ~ centroid time, '\n",
    "             '+1.0: right -> source duration [-T, 0] ~ rupture end time)')\n",
    "    \n",
    "    mag = Float.T(\n",
    "        default=5.0,\n",
    "        help='magnitude used for Gutenberg-Richter law')\n",
    "    \n",
    "    b = Float.T(\n",
    "        default=1.2,\n",
    "        help='b parameter for Gutenberg-Richter law')\n",
    "    \n",
    "    poisson_envelope = Int.T(\n",
    "        default = 0,\n",
    "        help='Whether to apply a Poisson distribution envelope to the magnitudes of the asperities.')\n",
    "    \n",
    "    mu = Float.T(\n",
    "        default = 10,\n",
    "        help = 'Mu parameter for Poisson envelope')\n",
    "    \n",
    "    loc = Float.T(\n",
    "        optional = True,\n",
    "        help = \"'loc' parameter for Poisson distribution function\")\n",
    "    \n",
    "\n",
    "    def discretize_t(self, deltat, tref):\n",
    "        \n",
    "        # Gutenberg-Ricther law\n",
    "        M = np.linspace(0,self.mag,1000)\n",
    "        pdf = self.b*np.log(10)*10**(-self.b*M)\n",
    "        self.cdf = 1-10**(-self.b*M)\n",
    "\n",
    "        # method returns discrete times and the respective amplitudes\n",
    "        tmin_stf = tref - self.duration * (self.anchor + 1.) * 0.5\n",
    "        tmax_stf = tref + self.duration * (1. - self.anchor) * 0.5\n",
    "        tmin = round(tmin_stf / deltat) * deltat\n",
    "        tmax = round(tmax_stf / deltat) * deltat\n",
    "        nt = int(round((tmax - tmin) / deltat)) + 1\n",
    "        times = np.linspace(tmin, tmax, nt)\n",
    "        if nt > 1:\n",
    "            self._amplitudes = np.random.uniform(min(self.cdf),max(self.cdf),nt)  \n",
    "            if self.poisson_envelope:\n",
    "                x = np.linspace(0,nt-1,nt)\n",
    "                self.envelope = stats.poisson.pmf(x, mu=self.mu, loc=self.loc)\n",
    "                self.amplitudes = self.mag*(self._amplitudes * self.envelope)\n",
    "            else:\n",
    "                self.amplitudes = self._amplitudes\n",
    "        else:\n",
    "            self.amplitudes = np.ones(1)\n",
    "\n",
    "        return times, self.amplitudes\n",
    "\n",
    "    def base_key(self):\n",
    "        # method returns STF name and the values\n",
    "        return (self.__class__.__name__, self.duration, self.anchor)"
   ]
  },
  {
   "cell_type": "markdown",
   "metadata": {},
   "source": [
    "### Create a source time function with the above class.\n",
    "\n",
    "An example of plot of the generated function is below."
   ]
  },
  {
   "cell_type": "code",
   "execution_count": null,
   "metadata": {},
   "outputs": [],
   "source": [
    "stf_gr = GRLawSTF(duration=10,anchor=0,mag=10,b=1.2)"
   ]
  },
  {
   "cell_type": "code",
   "execution_count": null,
   "metadata": {},
   "outputs": [],
   "source": [
    "(x,y) = stf_gr.discretize_t(0.1,0)\n",
    "_=plt.scatter(x,y)\n",
    "plt.title(\"GR law source time function\")"
   ]
  },
  {
   "cell_type": "markdown",
   "metadata": {},
   "source": [
    "### Here is an example synthetic seismogram and spectrogram using a double couple source and GR law source time function"
   ]
  },
  {
   "cell_type": "code",
   "execution_count": null,
   "metadata": {},
   "outputs": [],
   "source": [
    "response = engine.process(dc_source, [target])\n",
    "synthetic_trace = response.pyrocko_traces()[0]\n",
    "synthetic_trace.plot()\n",
    "\n",
    "df = len(synthetic_trace.get_xdata())\n",
    "\n",
    "f, t, Sxx = spectrogram(synthetic_trace.get_ydata(),0.02, nperseg=int(df/10), noverlap=int(df/11), scaling='density')\n",
    "\n",
    "plt.pcolormesh(np.log(Sxx))\n",
    "_ = plt.title('Double Couple Source')"
   ]
  },
  {
   "cell_type": "markdown",
   "metadata": {},
   "source": [
    "## Create multiple quakes with GR law random source mechanics"
   ]
  },
  {
   "cell_type": "code",
   "execution_count": null,
   "metadata": {},
   "outputs": [],
   "source": [
    "n_quakes = 10\n",
    "mag = 3\n",
    "duration=10\n",
    "mu = duration * 100\n",
    "loc = -(mu - duration)\n",
    "\n",
    "stf_gr = GRLawSTF(duration=duration,anchor=0,mag=10,b=1.2, poisson_envelope=1, mu=mu, loc = loc)\n",
    "\n",
    "stfs = [GRLawSTF(duration=duration,anchor=0,mag=mag,b=1.2) for x in range(n_quakes)]"
   ]
  },
  {
   "cell_type": "code",
   "execution_count": null,
   "metadata": {},
   "outputs": [],
   "source": [
    "'''target = gf.Target(\n",
    "       quantity='displacement',\n",
    "       lat=0, lon=2,\n",
    "       store_id=model,\n",
    "       codes=('NET', 'STA', 'LOC', 'E'),\n",
    "       tmin=10, tmax=100)\n",
    "\n",
    "# Normal fault\n",
    "dip = 90\n",
    "strike = 0\n",
    "rake = -90\n",
    "\n",
    "lat = 0\n",
    "long = 0\n",
    "depth = 2e3'''\n",
    "\n",
    "rect_sources = [gf.RectangularSource(stf=source_time_function,\n",
    "                                     magnitude=mag,\n",
    "                         lat=lat, lon=long, depth=depth,\n",
    "                         dip=dip, strike=strike, rake=rake, \n",
    "                         width=1e3, length=2e3, slip=1)\n",
    "           for source_time_function in stfs]\n",
    "\n",
    "dc_sources = [gf.DCSource(stf=source_time_function, magnitude=mag,\n",
    "                          lat=lat, lon=long, depth=depth, strike=strike, dip=dip, rake=rake)\n",
    "              for source_time_function in stfs]      \n",
    "\n",
    "ring_sources = [gf.RingfaultSource(stf=source_time_function, magnitude=mag,\n",
    "                         #stf_mode='pre',\n",
    "                         lat=lat, lon=long, depth=depth,\n",
    "                         dip=dip, diameter=2e3, sign=-1)\n",
    "           for source_time_function in stfs]\n"
   ]
  },
  {
   "cell_type": "code",
   "execution_count": null,
   "metadata": {},
   "outputs": [],
   "source": [
    "sources = dc_sources\n",
    "\n",
    "'''(x,y) = stfs[2].discretize_t(deltat=.1,tref=0)\n",
    "plt.scatter(x,y)'''\n",
    "\n",
    "quakes = [engine.process(source, [target]).pyrocko_traces()[0] for source in sources]"
   ]
  },
  {
   "cell_type": "markdown",
   "metadata": {},
   "source": [
    "## Example seismogram with GR law source time function"
   ]
  },
  {
   "cell_type": "code",
   "execution_count": null,
   "metadata": {},
   "outputs": [],
   "source": [
    "i = 2\n",
    "\n",
    "quakes[i].plot()\n",
    "\n",
    "df = len(quakes[i].get_xdata())\n",
    "\n",
    "f, t, Sxx = spectrogram(quakes[i].get_ydata(),0.02, nperseg=int(df/10), noverlap=int(df/11), scaling='density')\n",
    "\n",
    "plt.pcolormesh(np.log(Sxx))\n",
    "_ = plt.title('GR Law Source')"
   ]
  },
  {
   "cell_type": "markdown",
   "metadata": {},
   "source": [
    "### Difference between two of the seismograms"
   ]
  },
  {
   "cell_type": "code",
   "execution_count": null,
   "metadata": {},
   "outputs": [],
   "source": [
    "plt.plot(quakes[0].ydata-quakes[1].ydata)\n",
    "\n"
   ]
  },
  {
   "cell_type": "markdown",
   "metadata": {},
   "source": [
    "# Appendix"
   ]
  },
  {
   "cell_type": "markdown",
   "metadata": {},
   "source": [
    "## Example GR distribution"
   ]
  },
  {
   "cell_type": "code",
   "execution_count": null,
   "metadata": {},
   "outputs": [],
   "source": [
    "mag,b = 5, 1.2\n",
    "M = np.linspace(.01,mag,100)\n",
    "pdf = b*np.log(10)*10**(-b*M)\n",
    "cdf = 1-10**(-b*M)\n",
    "\n",
    "plt.figure(figsize=(5,10))\n",
    "plt.subplot(311)\n",
    "plt.plot(M)\n",
    "_=plt.title('Magnitude')\n",
    "plt.subplot(312)\n",
    "plt.semilogy(pdf)\n",
    "_=plt.title('PDF')\n",
    "plt.subplot(313)\n",
    "plt.semilogy(cdf)\n",
    "_=plt.title('CDF')"
   ]
  },
  {
   "cell_type": "code",
   "execution_count": null,
   "metadata": {},
   "outputs": [],
   "source": [
    "plt.hist(np.random.poisson(lam=3.0, size=10000))"
   ]
  },
  {
   "cell_type": "markdown",
   "metadata": {},
   "source": [
    "### New source time function that multiplies random asperities picked from GR law by a Poisson distribution envelope\n",
    "\n",
    "This has been incorporated into the GRLawSTF class above"
   ]
  },
  {
   "cell_type": "code",
   "execution_count": null,
   "metadata": {},
   "outputs": [],
   "source": [
    "from scipy import stats"
   ]
  },
  {
   "cell_type": "code",
   "execution_count": null,
   "metadata": {},
   "outputs": [],
   "source": [
    "s = .5\n",
    "\n",
    "x = np.linspace(stats.lognorm.ppf(0.01, s), stats.lognorm.ppf(0.99, s), 100)\n",
    "\n",
    "plt.plot(x, stats.lognorm.pdf(x, s),'r-', lw=5, alpha=0.6, label='lognorm pdf')"
   ]
  },
  {
   "cell_type": "code",
   "execution_count": null,
   "metadata": {},
   "outputs": [],
   "source": [
    "stats.poisson.pmf(np.linspace(0,10,11), mu=3)"
   ]
  },
  {
   "cell_type": "code",
   "execution_count": null,
   "metadata": {},
   "outputs": [],
   "source": [
    "duration = 10\n",
    "mu = duration * 100 \n",
    "loc = -(mu - duration)+15\n",
    "\n",
    "stf_gr = GRLawSTF(duration=duration,anchor=0,mag=10,b=1.2, poisson_envelope=1, mu=mu, loc = loc)\n",
    "(x,y) = stf_gr.discretize_t(0.1,0)\n",
    "_=plt.scatter(x,y)\n",
    "plt.title(\"GR law source time function with Poisson Envelope\")"
   ]
  },
  {
   "cell_type": "code",
   "execution_count": null,
   "metadata": {},
   "outputs": [],
   "source": [
    "plt.plot(stf_gr.envelope)"
   ]
  },
  {
   "cell_type": "markdown",
   "metadata": {},
   "source": [
    "# Clustering Synthetic Seismograms"
   ]
  },
  {
   "cell_type": "markdown",
   "metadata": {},
   "source": [
    "Create multiple random synthetic seismograms from several classes of source physics:\n",
    "- Source:\n",
    " * Double couple\n",
    " * Rectangular finite fault\n",
    "- Source time function:\n",
    " * GR law stats\n",
    " * GR law with Poisson envelope"
   ]
  },
  {
   "cell_type": "code",
   "execution_count": null,
   "metadata": {},
   "outputs": [],
   "source": [
    "#Parameters\n",
    "\n",
    "# Change this to change the source time function\n",
    "stf = stf_boxcar\n",
    "mag = 2\n",
    "# strike slip fault\n",
    "dip = 90\n",
    "strike = 0\n",
    "rake = 0\n",
    "\n",
    "duration=20\n",
    "mu = duration * 100\n",
    "loc = -(mu - duration)\n",
    "\n",
    "n_quakes = 100\n",
    "\n",
    "#Earthquake location\n",
    "lat = 0\n",
    "long = 0\n",
    "depth = 2e3\n",
    "\n",
    "stf_gr = GRLawSTF(duration=duration,anchor=0,mag=mag,b=1.2, poisson_envelope=1, mu=mu, loc = loc)\n",
    "\n",
    "stfs_gr = [GRLawSTF(duration=duration,anchor=0,mag=mag,b=1.2) for x in range(n_quakes)]\n",
    "\n",
    "stfs_grp = [GRLawSTF(duration=duration,anchor=0,mag=mag,b=1.2, poisson_envelope=1, mu=mu, loc = loc) \n",
    "            for x in range(n_quakes)]\n",
    "\n",
    "stfs = stfs_gr + stfs_grp"
   ]
  },
  {
   "cell_type": "code",
   "execution_count": null,
   "metadata": {},
   "outputs": [],
   "source": [
    "target = gf.Target(\n",
    "       quantity='displacement',\n",
    "       lat=0, lon=1,\n",
    "       store_id=model,\n",
    "       codes=('NET', 'STA', 'LOC', 'E'),\n",
    "       tmin=9, tmax=50)"
   ]
  },
  {
   "cell_type": "code",
   "execution_count": null,
   "metadata": {},
   "outputs": [],
   "source": [
    "rect_sources = [gf.RectangularSource(stf=source_time_function,\n",
    "                                     magnitude=mag,\n",
    "                         lat=lat, lon=long, depth=depth,\n",
    "                         dip=dip, strike=strike, rake=rake, \n",
    "                         width=1e3, length=2e3, slip=1)\n",
    "           for source_time_function in stfs]\n",
    "\n",
    "dc_sources = [gf.DCSource(stf=source_time_function, magnitude=mag,\n",
    "                          lat=lat, lon=long, depth=depth, strike=strike, dip=dip, rake=rake)\n",
    "              for source_time_function in stfs] "
   ]
  },
  {
   "cell_type": "code",
   "execution_count": null,
   "metadata": {},
   "outputs": [],
   "source": [
    "# Create normalized quakes\n",
    "\n",
    "def process(source, target):\n",
    "    trace = engine.process(source, [target]).pyrocko_traces()[0]\n",
    "    trace.ydata /= np.max(trace.ydata)\n",
    "    return trace \n",
    "\n",
    "quakes = [process(source, target) for source in (dc_sources+rect_sources)]"
   ]
  },
  {
   "cell_type": "code",
   "execution_count": null,
   "metadata": {},
   "outputs": [],
   "source": [
    "len(quakes)"
   ]
  },
  {
   "cell_type": "code",
   "execution_count": null,
   "metadata": {},
   "outputs": [],
   "source": [
    "i = 399\n",
    "\n",
    "quakes[i].plot()\n",
    "\n",
    "df = len(quakes[i].get_xdata())\n",
    "\n",
    "f, t, Sxx = spectrogram(quakes[i].get_ydata(), fs=1/quakes[i].deltat, nperseg=int(df/10))#, noverlap=int(df/20), scaling='density')\n",
    "\n",
    "plt.pcolormesh(np.log(Sxx))\n"
   ]
  },
  {
   "cell_type": "code",
   "execution_count": null,
   "metadata": {},
   "outputs": [],
   "source": [
    "seismograms = [q.ydata for q in quakes]\n",
    "spectrograms = [spectrogram(q.get_ydata(), fs=1/q.deltat,nperseg=int(df/20))[2] for q in quakes]"
   ]
  },
  {
   "cell_type": "code",
   "execution_count": null,
   "metadata": {},
   "outputs": [],
   "source": [
    "plt.pcolormesh(spectrograms[12])"
   ]
  },
  {
   "cell_type": "code",
   "execution_count": 4,
   "metadata": {},
   "outputs": [],
   "source": [
    "import pickle"
   ]
  },
  {
   "cell_type": "code",
   "execution_count": 5,
   "metadata": {},
   "outputs": [
    {
     "ename": "NameError",
     "evalue": "name 'seismograms' is not defined",
     "output_type": "error",
     "traceback": [
      "\u001b[1;31m---------------------------------------------------------------------------\u001b[0m",
      "\u001b[1;31mNameError\u001b[0m                                 Traceback (most recent call last)",
      "\u001b[1;32m<ipython-input-5-a423c653d575>\u001b[0m in \u001b[0;36m<module>\u001b[1;34m\u001b[0m\n\u001b[0;32m      1\u001b[0m \u001b[1;32mwith\u001b[0m \u001b[0mopen\u001b[0m\u001b[1;33m(\u001b[0m\u001b[1;34m'seismograms_for_clustering.pkl'\u001b[0m\u001b[1;33m,\u001b[0m \u001b[1;34m'wb'\u001b[0m\u001b[1;33m)\u001b[0m \u001b[1;32mas\u001b[0m \u001b[0mf\u001b[0m\u001b[1;33m:\u001b[0m\u001b[1;33m\u001b[0m\u001b[1;33m\u001b[0m\u001b[0m\n\u001b[1;32m----> 2\u001b[1;33m     \u001b[0mpickle\u001b[0m\u001b[1;33m.\u001b[0m\u001b[0mdump\u001b[0m\u001b[1;33m(\u001b[0m\u001b[0mseismograms\u001b[0m\u001b[1;33m,\u001b[0m \u001b[0mf\u001b[0m\u001b[1;33m)\u001b[0m\u001b[1;33m\u001b[0m\u001b[1;33m\u001b[0m\u001b[0m\n\u001b[0m\u001b[0;32m      3\u001b[0m \u001b[1;33m\u001b[0m\u001b[0m\n\u001b[0;32m      4\u001b[0m \u001b[1;32mwith\u001b[0m \u001b[0mopen\u001b[0m\u001b[1;33m(\u001b[0m\u001b[1;34m'./synthseismograms/spectrograms_for_clustering.pkl'\u001b[0m\u001b[1;33m,\u001b[0m \u001b[1;34m'wb'\u001b[0m\u001b[1;33m)\u001b[0m \u001b[1;32mas\u001b[0m \u001b[0mf\u001b[0m\u001b[1;33m:\u001b[0m\u001b[1;33m\u001b[0m\u001b[1;33m\u001b[0m\u001b[0m\n\u001b[0;32m      5\u001b[0m     \u001b[0mpickle\u001b[0m\u001b[1;33m.\u001b[0m\u001b[0mdump\u001b[0m\u001b[1;33m(\u001b[0m\u001b[0mspectrograms\u001b[0m\u001b[1;33m,\u001b[0m \u001b[0mf\u001b[0m\u001b[1;33m)\u001b[0m\u001b[1;33m\u001b[0m\u001b[1;33m\u001b[0m\u001b[0m\n",
      "\u001b[1;31mNameError\u001b[0m: name 'seismograms' is not defined"
     ]
    }
   ],
   "source": [
    "with open('seismograms_for_clustering.pkl', 'wb') as f:\n",
    "    pickle.dump(seismograms, f)\n",
    "    \n",
    "with open('spectrograms_for_clustering.pkl', 'wb') as f:\n",
    "    pickle.dump(spectrograms, f)"
   ]
  },
  {
   "cell_type": "code",
   "execution_count": 12,
   "metadata": {},
   "outputs": [
    {
     "data": {
      "image/png": "[encoded data removed]",
      "text/plain": [
       "<Figure size 360x720 with 4 Axes>"
      ]
     },
     "metadata": {
      "needs_background": "light"
     },
     "output_type": "display_data"
    }
   ],
   "source": [
    "spectrograms = np.load('./synthseismograms/spectrograms_for_clustering.pkl')\n",
    "\n",
    "f = plt.figure(figsize=(5,10))\n",
    "for i in range(4):\n",
    "    plt.subplot(4,1,i+1)\n",
    "    plt.pcolormesh(spectrograms[100*i+2])"
   ]
  },
  {
   "cell_type": "code",
   "execution_count": null,
   "metadata": {},
   "outputs": [],
   "source": [
    "loc"
   ]
  },
  {
   "cell_type": "code",
   "execution_count": null,
   "metadata": {},
   "outputs": [],
   "source": []
  }
 ],
 "metadata": {
  "kernelspec": {
   "display_name": "Python 3",
   "language": "python",
   "name": "python3"
  },
  "language_info": {
   "codemirror_mode": {
    "name": "ipython",
    "version": 3
   },
   "file_extension": ".py",
   "mimetype": "text/x-python",
   "name": "python",
   "nbconvert_exporter": "python",
   "pygments_lexer": "ipython3",
   "version": "3.7.3"
  }
 },
 "nbformat": 4,
 "nbformat_minor": 4
}
